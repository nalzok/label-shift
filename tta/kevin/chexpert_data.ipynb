{
 "cells": [
  {
   "cell_type": "markdown",
   "metadata": {},
   "source": [
    "# Setup"
   ]
  },
  {
   "cell_type": "code",
   "execution_count": 2,
   "metadata": {},
   "outputs": [],
   "source": [
    "%reload_ext autoreload"
   ]
  },
  {
   "cell_type": "code",
   "execution_count": 3,
   "metadata": {},
   "outputs": [],
   "source": [
    "# Silence WARNING:root:The use of `check_types` is deprecated and does not have any effect.\n",
    "# https://github.com/tensorflow/probability/issues/1523\n",
    "import logging\n",
    "\n",
    "logger = logging.getLogger()\n",
    "\n",
    "\n",
    "class CheckTypesFilter(logging.Filter):\n",
    "    def filter(self, record):\n",
    "        return \"check_types\" not in record.getMessage()\n",
    "\n",
    "\n",
    "logger.addFilter(CheckTypesFilter())"
   ]
  },
  {
   "cell_type": "code",
   "execution_count": 1,
   "metadata": {},
   "outputs": [],
   "source": [
    "\n",
    "import matplotlib.pyplot as plt\n",
    "import numpy as np\n",
    "import pandas as pd\n",
    "np.set_printoptions(precision=3)\n",
    "import scipy.stats\n",
    "import einops\n",
    "\n",
    "\n",
    "from functools import partial\n",
    "from collections import namedtuple\n",
    "import itertools\n",
    "from itertools import repeat\n",
    "from time import time\n",
    "\n",
    "import chex\n",
    "import jax\n",
    "import jax.random as jr\n",
    "import jax.numpy as jnp\n",
    "from jax import vmap, grad, jit, lax\n",
    "from jax import numpy as jnp\n",
    "import jax.scipy as jsp\n",
    "\n",
    "from flax.core import freeze, unfreeze\n",
    "from flax import linen as nn\n",
    "import flax\n",
    "\n",
    "import jaxopt\n",
    "import optax\n",
    "\n",
    "\n",
    "from PIL import Image\n",
    "\n",
    "\n",
    "#jax.config.update(\"jax_enable_x64\", False)\n",
    "\n"
   ]
  },
  {
   "cell_type": "code",
   "execution_count": null,
   "metadata": {},
   "outputs": [],
   "source": [
    "import tensorflow as tf\n",
    "import tensorflow_datasets as tfds\n",
    "\n",
    "\n",
    "import torch\n",
    "from torch.utils.data import TensorDataset\n",
    "import torchvision.transforms as T"
   ]
  },
  {
   "cell_type": "code",
   "execution_count": 2,
   "metadata": {},
   "outputs": [
    {
     "name": "stdout",
     "output_type": "stream",
     "text": [
      "96\n",
      "[TpuDevice(id=0, process_index=0, coords=(0,0,0), core_on_chip=0), TpuDevice(id=1, process_index=0, coords=(0,0,0), core_on_chip=1), TpuDevice(id=2, process_index=0, coords=(1,0,0), core_on_chip=0), TpuDevice(id=3, process_index=0, coords=(1,0,0), core_on_chip=1), TpuDevice(id=4, process_index=0, coords=(0,1,0), core_on_chip=0), TpuDevice(id=5, process_index=0, coords=(0,1,0), core_on_chip=1), TpuDevice(id=6, process_index=0, coords=(1,1,0), core_on_chip=0), TpuDevice(id=7, process_index=0, coords=(1,1,0), core_on_chip=1)]\n"
     ]
    }
   ],
   "source": [
    "import os \n",
    "cpu_count = os.cpu_count()\n",
    "print(cpu_count)\n",
    "\n",
    "# Run jax on multiple CPU cores\n",
    "# https://github.com/google/jax/issues/5506\n",
    "# https://stackoverflow.com/questions/72328521/jax-pmap-with-multi-core-cpu\n",
    "import os \n",
    "#os.environ[\"XLA_FLAGS\"] = '--xla_force_host_platform_device_count=90'\n",
    "\n",
    "import jax\n",
    "print(jax.devices())"
   ]
  },
  {
   "attachments": {},
   "cell_type": "markdown",
   "metadata": {},
   "source": [
    "# Load the labels"
   ]
  },
  {
   "cell_type": "code",
   "execution_count": 100,
   "metadata": {},
   "outputs": [
    {
     "data": {
      "text/plain": [
       "'/home/kpmurphy/github/label-shift/tta'"
      ]
     },
     "execution_count": 100,
     "metadata": {},
     "output_type": "execute_result"
    }
   ],
   "source": [
    "%pwd"
   ]
  },
  {
   "cell_type": "code",
   "execution_count": 2,
   "metadata": {},
   "outputs": [],
   "source": [
    "from pathlib import Path\n",
    "root = '/home/kpmurphy/data/CheXpert'\n",
    "root = Path(root)\n",
    "labels = pd.read_csv(root / \"labels.csv\", index_col=\"image_id\")\n",
    "\n",
    "\n"
   ]
  },
  {
   "cell_type": "code",
   "execution_count": 3,
   "metadata": {},
   "outputs": [
    {
     "data": {
      "text/html": [
       "<div>\n",
       "<style scoped>\n",
       "    .dataframe tbody tr th:only-of-type {\n",
       "        vertical-align: middle;\n",
       "    }\n",
       "\n",
       "    .dataframe tbody tr th {\n",
       "        vertical-align: top;\n",
       "    }\n",
       "\n",
       "    .dataframe thead th {\n",
       "        text-align: right;\n",
       "    }\n",
       "</style>\n",
       "<table border=\"1\" class=\"dataframe\">\n",
       "  <thead>\n",
       "    <tr style=\"text-align: right;\">\n",
       "      <th></th>\n",
       "      <th>Unnamed: 0</th>\n",
       "      <th>NO_FINDING</th>\n",
       "      <th>ENLARGED_CARDIOMEDIASTINUM</th>\n",
       "      <th>CARDIOMEGALY</th>\n",
       "      <th>AIRSPACE_OPACITY</th>\n",
       "      <th>LUNG_LESION</th>\n",
       "      <th>PULMONARY_EDEMA</th>\n",
       "      <th>CONSOLIDATION</th>\n",
       "      <th>PNEUMONIA</th>\n",
       "      <th>ATELECTASIS</th>\n",
       "      <th>...</th>\n",
       "      <th>EFFUSION</th>\n",
       "      <th>PLEURAL_OTHER</th>\n",
       "      <th>FRACTURE</th>\n",
       "      <th>SUPPORT_DEVICES</th>\n",
       "      <th>patient_id</th>\n",
       "      <th>split</th>\n",
       "      <th>GENDER</th>\n",
       "      <th>AGE_AT_CXR</th>\n",
       "      <th>PRIMARY_RACE</th>\n",
       "      <th>ETHNICITY</th>\n",
       "    </tr>\n",
       "    <tr>\n",
       "      <th>image_id</th>\n",
       "      <th></th>\n",
       "      <th></th>\n",
       "      <th></th>\n",
       "      <th></th>\n",
       "      <th></th>\n",
       "      <th></th>\n",
       "      <th></th>\n",
       "      <th></th>\n",
       "      <th></th>\n",
       "      <th></th>\n",
       "      <th></th>\n",
       "      <th></th>\n",
       "      <th></th>\n",
       "      <th></th>\n",
       "      <th></th>\n",
       "      <th></th>\n",
       "      <th></th>\n",
       "      <th></th>\n",
       "      <th></th>\n",
       "      <th></th>\n",
       "      <th></th>\n",
       "    </tr>\n",
       "  </thead>\n",
       "  <tbody>\n",
       "    <tr>\n",
       "      <th>CheXpert-v1.0/train/patient42720/study2/view1_frontal.jpg</th>\n",
       "      <td>0</td>\n",
       "      <td>3</td>\n",
       "      <td>1</td>\n",
       "      <td>3</td>\n",
       "      <td>3</td>\n",
       "      <td>3</td>\n",
       "      <td>1</td>\n",
       "      <td>3</td>\n",
       "      <td>3</td>\n",
       "      <td>3</td>\n",
       "      <td>...</td>\n",
       "      <td>1</td>\n",
       "      <td>3</td>\n",
       "      <td>3</td>\n",
       "      <td>1</td>\n",
       "      <td>patient42720</td>\n",
       "      <td>train</td>\n",
       "      <td>Male</td>\n",
       "      <td>58</td>\n",
       "      <td>White</td>\n",
       "      <td>Non-Hispanic/Non-Latino</td>\n",
       "    </tr>\n",
       "    <tr>\n",
       "      <th>CheXpert-v1.0/train/patient42720/study7/view1_frontal.jpg</th>\n",
       "      <td>1</td>\n",
       "      <td>3</td>\n",
       "      <td>3</td>\n",
       "      <td>0</td>\n",
       "      <td>1</td>\n",
       "      <td>3</td>\n",
       "      <td>3</td>\n",
       "      <td>3</td>\n",
       "      <td>3</td>\n",
       "      <td>3</td>\n",
       "      <td>...</td>\n",
       "      <td>1</td>\n",
       "      <td>3</td>\n",
       "      <td>3</td>\n",
       "      <td>1</td>\n",
       "      <td>patient42720</td>\n",
       "      <td>train</td>\n",
       "      <td>Male</td>\n",
       "      <td>58</td>\n",
       "      <td>White</td>\n",
       "      <td>Non-Hispanic/Non-Latino</td>\n",
       "    </tr>\n",
       "    <tr>\n",
       "      <th>CheXpert-v1.0/train/patient42720/study8/view1_frontal.jpg</th>\n",
       "      <td>2</td>\n",
       "      <td>3</td>\n",
       "      <td>3</td>\n",
       "      <td>0</td>\n",
       "      <td>1</td>\n",
       "      <td>3</td>\n",
       "      <td>3</td>\n",
       "      <td>3</td>\n",
       "      <td>3</td>\n",
       "      <td>3</td>\n",
       "      <td>...</td>\n",
       "      <td>1</td>\n",
       "      <td>3</td>\n",
       "      <td>3</td>\n",
       "      <td>1</td>\n",
       "      <td>patient42720</td>\n",
       "      <td>train</td>\n",
       "      <td>Male</td>\n",
       "      <td>58</td>\n",
       "      <td>White</td>\n",
       "      <td>Non-Hispanic/Non-Latino</td>\n",
       "    </tr>\n",
       "    <tr>\n",
       "      <th>CheXpert-v1.0/train/patient42720/study6/view1_frontal.jpg</th>\n",
       "      <td>3</td>\n",
       "      <td>3</td>\n",
       "      <td>3</td>\n",
       "      <td>3</td>\n",
       "      <td>3</td>\n",
       "      <td>3</td>\n",
       "      <td>1</td>\n",
       "      <td>3</td>\n",
       "      <td>3</td>\n",
       "      <td>3</td>\n",
       "      <td>...</td>\n",
       "      <td>1</td>\n",
       "      <td>3</td>\n",
       "      <td>3</td>\n",
       "      <td>1</td>\n",
       "      <td>patient42720</td>\n",
       "      <td>train</td>\n",
       "      <td>Male</td>\n",
       "      <td>58</td>\n",
       "      <td>White</td>\n",
       "      <td>Non-Hispanic/Non-Latino</td>\n",
       "    </tr>\n",
       "    <tr>\n",
       "      <th>CheXpert-v1.0/train/patient42720/study1/view1_frontal.jpg</th>\n",
       "      <td>4</td>\n",
       "      <td>3</td>\n",
       "      <td>3</td>\n",
       "      <td>3</td>\n",
       "      <td>3</td>\n",
       "      <td>3</td>\n",
       "      <td>1</td>\n",
       "      <td>3</td>\n",
       "      <td>3</td>\n",
       "      <td>3</td>\n",
       "      <td>...</td>\n",
       "      <td>1</td>\n",
       "      <td>3</td>\n",
       "      <td>3</td>\n",
       "      <td>1</td>\n",
       "      <td>patient42720</td>\n",
       "      <td>train</td>\n",
       "      <td>Male</td>\n",
       "      <td>58</td>\n",
       "      <td>White</td>\n",
       "      <td>Non-Hispanic/Non-Latino</td>\n",
       "    </tr>\n",
       "  </tbody>\n",
       "</table>\n",
       "<p>5 rows × 21 columns</p>\n",
       "</div>"
      ],
      "text/plain": [
       "                                                    Unnamed: 0  NO_FINDING  \\\n",
       "image_id                                                                     \n",
       "CheXpert-v1.0/train/patient42720/study2/view1_f...           0           3   \n",
       "CheXpert-v1.0/train/patient42720/study7/view1_f...           1           3   \n",
       "CheXpert-v1.0/train/patient42720/study8/view1_f...           2           3   \n",
       "CheXpert-v1.0/train/patient42720/study6/view1_f...           3           3   \n",
       "CheXpert-v1.0/train/patient42720/study1/view1_f...           4           3   \n",
       "\n",
       "                                                    ENLARGED_CARDIOMEDIASTINUM  \\\n",
       "image_id                                                                         \n",
       "CheXpert-v1.0/train/patient42720/study2/view1_f...                           1   \n",
       "CheXpert-v1.0/train/patient42720/study7/view1_f...                           3   \n",
       "CheXpert-v1.0/train/patient42720/study8/view1_f...                           3   \n",
       "CheXpert-v1.0/train/patient42720/study6/view1_f...                           3   \n",
       "CheXpert-v1.0/train/patient42720/study1/view1_f...                           3   \n",
       "\n",
       "                                                    CARDIOMEGALY  \\\n",
       "image_id                                                           \n",
       "CheXpert-v1.0/train/patient42720/study2/view1_f...             3   \n",
       "CheXpert-v1.0/train/patient42720/study7/view1_f...             0   \n",
       "CheXpert-v1.0/train/patient42720/study8/view1_f...             0   \n",
       "CheXpert-v1.0/train/patient42720/study6/view1_f...             3   \n",
       "CheXpert-v1.0/train/patient42720/study1/view1_f...             3   \n",
       "\n",
       "                                                    AIRSPACE_OPACITY  \\\n",
       "image_id                                                               \n",
       "CheXpert-v1.0/train/patient42720/study2/view1_f...                 3   \n",
       "CheXpert-v1.0/train/patient42720/study7/view1_f...                 1   \n",
       "CheXpert-v1.0/train/patient42720/study8/view1_f...                 1   \n",
       "CheXpert-v1.0/train/patient42720/study6/view1_f...                 3   \n",
       "CheXpert-v1.0/train/patient42720/study1/view1_f...                 3   \n",
       "\n",
       "                                                    LUNG_LESION  \\\n",
       "image_id                                                          \n",
       "CheXpert-v1.0/train/patient42720/study2/view1_f...            3   \n",
       "CheXpert-v1.0/train/patient42720/study7/view1_f...            3   \n",
       "CheXpert-v1.0/train/patient42720/study8/view1_f...            3   \n",
       "CheXpert-v1.0/train/patient42720/study6/view1_f...            3   \n",
       "CheXpert-v1.0/train/patient42720/study1/view1_f...            3   \n",
       "\n",
       "                                                    PULMONARY_EDEMA  \\\n",
       "image_id                                                              \n",
       "CheXpert-v1.0/train/patient42720/study2/view1_f...                1   \n",
       "CheXpert-v1.0/train/patient42720/study7/view1_f...                3   \n",
       "CheXpert-v1.0/train/patient42720/study8/view1_f...                3   \n",
       "CheXpert-v1.0/train/patient42720/study6/view1_f...                1   \n",
       "CheXpert-v1.0/train/patient42720/study1/view1_f...                1   \n",
       "\n",
       "                                                    CONSOLIDATION  PNEUMONIA  \\\n",
       "image_id                                                                       \n",
       "CheXpert-v1.0/train/patient42720/study2/view1_f...              3          3   \n",
       "CheXpert-v1.0/train/patient42720/study7/view1_f...              3          3   \n",
       "CheXpert-v1.0/train/patient42720/study8/view1_f...              3          3   \n",
       "CheXpert-v1.0/train/patient42720/study6/view1_f...              3          3   \n",
       "CheXpert-v1.0/train/patient42720/study1/view1_f...              3          3   \n",
       "\n",
       "                                                    ATELECTASIS  ...  \\\n",
       "image_id                                                         ...   \n",
       "CheXpert-v1.0/train/patient42720/study2/view1_f...            3  ...   \n",
       "CheXpert-v1.0/train/patient42720/study7/view1_f...            3  ...   \n",
       "CheXpert-v1.0/train/patient42720/study8/view1_f...            3  ...   \n",
       "CheXpert-v1.0/train/patient42720/study6/view1_f...            3  ...   \n",
       "CheXpert-v1.0/train/patient42720/study1/view1_f...            3  ...   \n",
       "\n",
       "                                                    EFFUSION  PLEURAL_OTHER  \\\n",
       "image_id                                                                      \n",
       "CheXpert-v1.0/train/patient42720/study2/view1_f...         1              3   \n",
       "CheXpert-v1.0/train/patient42720/study7/view1_f...         1              3   \n",
       "CheXpert-v1.0/train/patient42720/study8/view1_f...         1              3   \n",
       "CheXpert-v1.0/train/patient42720/study6/view1_f...         1              3   \n",
       "CheXpert-v1.0/train/patient42720/study1/view1_f...         1              3   \n",
       "\n",
       "                                                    FRACTURE  SUPPORT_DEVICES  \\\n",
       "image_id                                                                        \n",
       "CheXpert-v1.0/train/patient42720/study2/view1_f...         3                1   \n",
       "CheXpert-v1.0/train/patient42720/study7/view1_f...         3                1   \n",
       "CheXpert-v1.0/train/patient42720/study8/view1_f...         3                1   \n",
       "CheXpert-v1.0/train/patient42720/study6/view1_f...         3                1   \n",
       "CheXpert-v1.0/train/patient42720/study1/view1_f...         3                1   \n",
       "\n",
       "                                                      patient_id  split  \\\n",
       "image_id                                                                  \n",
       "CheXpert-v1.0/train/patient42720/study2/view1_f...  patient42720  train   \n",
       "CheXpert-v1.0/train/patient42720/study7/view1_f...  patient42720  train   \n",
       "CheXpert-v1.0/train/patient42720/study8/view1_f...  patient42720  train   \n",
       "CheXpert-v1.0/train/patient42720/study6/view1_f...  patient42720  train   \n",
       "CheXpert-v1.0/train/patient42720/study1/view1_f...  patient42720  train   \n",
       "\n",
       "                                                   GENDER AGE_AT_CXR  \\\n",
       "image_id                                                               \n",
       "CheXpert-v1.0/train/patient42720/study2/view1_f...   Male         58   \n",
       "CheXpert-v1.0/train/patient42720/study7/view1_f...   Male         58   \n",
       "CheXpert-v1.0/train/patient42720/study8/view1_f...   Male         58   \n",
       "CheXpert-v1.0/train/patient42720/study6/view1_f...   Male         58   \n",
       "CheXpert-v1.0/train/patient42720/study1/view1_f...   Male         58   \n",
       "\n",
       "                                                    PRIMARY_RACE  \\\n",
       "image_id                                                           \n",
       "CheXpert-v1.0/train/patient42720/study2/view1_f...         White   \n",
       "CheXpert-v1.0/train/patient42720/study7/view1_f...         White   \n",
       "CheXpert-v1.0/train/patient42720/study8/view1_f...         White   \n",
       "CheXpert-v1.0/train/patient42720/study6/view1_f...         White   \n",
       "CheXpert-v1.0/train/patient42720/study1/view1_f...         White   \n",
       "\n",
       "                                                                  ETHNICITY  \n",
       "image_id                                                                     \n",
       "CheXpert-v1.0/train/patient42720/study2/view1_f...  Non-Hispanic/Non-Latino  \n",
       "CheXpert-v1.0/train/patient42720/study7/view1_f...  Non-Hispanic/Non-Latino  \n",
       "CheXpert-v1.0/train/patient42720/study8/view1_f...  Non-Hispanic/Non-Latino  \n",
       "CheXpert-v1.0/train/patient42720/study6/view1_f...  Non-Hispanic/Non-Latino  \n",
       "CheXpert-v1.0/train/patient42720/study1/view1_f...  Non-Hispanic/Non-Latino  \n",
       "\n",
       "[5 rows x 21 columns]"
      ]
     },
     "execution_count": 3,
     "metadata": {},
     "output_type": "execute_result"
    }
   ],
   "source": [
    "\n",
    "labels.head()"
   ]
  },
  {
   "cell_type": "code",
   "execution_count": 27,
   "metadata": {},
   "outputs": [
    {
     "data": {
      "text/plain": [
       "190499"
      ]
     },
     "execution_count": 27,
     "metadata": {},
     "output_type": "execute_result"
    }
   ],
   "source": [
    "len(labels)"
   ]
  },
  {
   "attachments": {},
   "cell_type": "markdown",
   "metadata": {},
   "source": [
    "# Joint the embeddings with the labels"
   ]
  },
  {
   "cell_type": "code",
   "execution_count": 104,
   "metadata": {},
   "outputs": [],
   "source": [
    "def extract_labels(root, max_rows=0):\n",
    "    labels = pd.read_csv(root / \"labels.csv\", index_col=\"image_id\")\n",
    "\n",
    "    # Extract subset of rows for which all labels are available\n",
    "    labels = labels.loc[labels[\"PNEUMONIA\"].isin({1, 3})]\n",
    "    labels = labels.loc[labels[\"EFFUSION\"].isin({1, 3})]\n",
    "    labels = labels.loc[labels[\"GENDER\"] != \"Unknown\"]\n",
    "\n",
    "    if max_rows == 0:\n",
    "        max_rows = len(labels)\n",
    "\n",
    "    columns = [\"PNEUMONIA\", \"EFFUSION\", \"GENDER\"]\n",
    "    for t in columns:\n",
    "        code, uniques = pd.factorize(labels[t], sort=True)\n",
    "        print(t, code, uniques) #1->0, 3->1, female->0, male->1\n",
    "        labels[t] = code\n",
    "    \n",
    "    m = np.median(labels[\"AGE_AT_CXR\"])\n",
    "    print('median age ', m)\n",
    "    labels[\"AGE_QUANTIZED\"] = (labels[\"AGE_AT_CXR\"] > m)\n",
    "    columns.append(\"AGE_QUANTIZED\")\n",
    "\n",
    "    YZ = labels[columns].to_numpy()\n",
    "    YZ = YZ[:max_rows]\n",
    "    return YZ, labels, columns"
   ]
  },
  {
   "cell_type": "code",
   "execution_count": 106,
   "metadata": {},
   "outputs": [
    {
     "name": "stdout",
     "output_type": "stream",
     "text": [
      "PNEUMONIA [1 1 1 ... 0 0 0] Int64Index([1, 3], dtype='int64')\n",
      "EFFUSION [0 0 0 ... 0 0 0] Int64Index([1, 3], dtype='int64')\n",
      "GENDER [1 1 1 ... 1 0 0] Index(['Female', 'Male'], dtype='object')\n",
      "median age  62.0\n",
      "(139907, 4)\n"
     ]
    }
   ],
   "source": [
    "YZ, labels, columns = extract_labels(root, max_rows=0)\n",
    "print(YZ.shape)"
   ]
  },
  {
   "cell_type": "code",
   "execution_count": 119,
   "metadata": {},
   "outputs": [
    {
     "name": "stdout",
     "output_type": "stream",
     "text": [
      "<class 'numpy.ndarray'>\n"
     ]
    }
   ],
   "source": [
    "print(type(YZ))"
   ]
  },
  {
   "cell_type": "code",
   "execution_count": 105,
   "metadata": {},
   "outputs": [],
   "source": [
    "def extract_features(root, labels, max_rows=20):\n",
    "    datastore = np.load(root / \"embeddings.npz\")\n",
    "    if max_rows == 0:\n",
    "        max_rows = len(labels)\n",
    "    ndims = 1376\n",
    "    X = np.zeros((max_rows, ndims))\n",
    "    i = 0\n",
    "    for fname in labels.index:\n",
    "        x = datastore[fname]\n",
    "        i += 1\n",
    "        if i >= max_rows: break\n",
    "        X[i,:] = x\n",
    "    return X"
   ]
  },
  {
   "cell_type": "code",
   "execution_count": 126,
   "metadata": {},
   "outputs": [
    {
     "name": "stdout",
     "output_type": "stream",
     "text": [
      "(139907, 1376)\n",
      "CPU times: user 15min 47s, sys: 4.41 s, total: 15min 51s\n",
      "Wall time: 15min 49s\n"
     ]
    }
   ],
   "source": [
    "%%time\n",
    "X = extract_features(root, labels, max_rows=0)\n",
    "print(X.shape)\n",
    "\n"
   ]
  },
  {
   "cell_type": "code",
   "execution_count": 123,
   "metadata": {},
   "outputs": [
    {
     "name": "stdout",
     "output_type": "stream",
     "text": [
      "['PNEUMONIA', 'EFFUSION', 'GENDER', 'AGE_QUANTIZED']\n"
     ]
    }
   ],
   "source": [
    "print(columns)"
   ]
  },
  {
   "cell_type": "code",
   "execution_count": 127,
   "metadata": {},
   "outputs": [],
   "source": [
    "np.savez(root / 'data_matrix.npz', X=X, YZ=YZ, columns=columns)\n"
   ]
  },
  {
   "cell_type": "code",
   "execution_count": null,
   "metadata": {},
   "outputs": [],
   "source": []
  }
 ],
 "metadata": {
  "kernelspec": {
   "display_name": "Python 3.10.6 ('base')",
   "language": "python",
   "name": "python3"
  },
  "language_info": {
   "codemirror_mode": {
    "name": "ipython",
    "version": 3
   },
   "file_extension": ".py",
   "mimetype": "text/x-python",
   "name": "python",
   "nbconvert_exporter": "python",
   "pygments_lexer": "ipython3",
   "version": "3.10.6"
  },
  "orig_nbformat": 4,
  "vscode": {
   "interpreter": {
    "hash": "7e1aafb1a5b8a6c5cc9d9564fe8ce376ad7cec1976d94f450e8b79a35770c931"
   }
  }
 },
 "nbformat": 4,
 "nbformat_minor": 2
}
